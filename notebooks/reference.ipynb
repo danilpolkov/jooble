{
 "cells": [
  {
   "cell_type": "code",
   "execution_count": 1,
   "metadata": {},
   "outputs": [],
   "source": [
    "import pandas as pd\n",
    "from pathlib import Path\n",
    "import sys\n",
    "\n",
    "PATH = '/Users/danil/Documents/github/jooble'\n",
    "sys.path.append(str(PATH))\n",
    "\n",
    "from src.jooble import prepare_csv, preprocess"
   ]
  },
  {
   "cell_type": "markdown",
   "metadata": {},
   "source": [
    "# open data"
   ]
  },
  {
   "cell_type": "code",
   "execution_count": 3,
   "metadata": {},
   "outputs": [],
   "source": [
    "train_features = prepare_csv(path = PATH + '/data/raw/train.tsv')"
   ]
  },
  {
   "cell_type": "code",
   "execution_count": 6,
   "metadata": {},
   "outputs": [
    {
     "data": {
      "text/plain": [
       "(799, 258)"
      ]
     },
     "execution_count": 6,
     "metadata": {},
     "output_type": "execute_result"
    }
   ],
   "source": [
    "train_features.shape"
   ]
  },
  {
   "cell_type": "markdown",
   "metadata": {},
   "source": [
    "# fit scaler"
   ]
  },
  {
   "cell_type": "code",
   "execution_count": 4,
   "metadata": {},
   "outputs": [],
   "source": [
    "prep = preprocess()\n",
    "\n",
    "prep.get_features_num(train_features)\n",
    "prep.fit_scaler(train_features)"
   ]
  },
  {
   "cell_type": "markdown",
   "metadata": {},
   "source": [
    "# transform test dataset"
   ]
  },
  {
   "cell_type": "code",
   "execution_count": 7,
   "metadata": {},
   "outputs": [
    {
     "data": {
      "text/plain": [
       "(100, 258)"
      ]
     },
     "execution_count": 7,
     "metadata": {},
     "output_type": "execute_result"
    }
   ],
   "source": [
    "test_features = prepare_csv(PATH + '/data/raw/test.tsv')\n",
    "test_features.shape"
   ]
  },
  {
   "cell_type": "code",
   "execution_count": 5,
   "metadata": {},
   "outputs": [
    {
     "data": {
      "text/html": [
       "<div>\n",
       "<style scoped>\n",
       "    .dataframe tbody tr th:only-of-type {\n",
       "        vertical-align: middle;\n",
       "    }\n",
       "\n",
       "    .dataframe tbody tr th {\n",
       "        vertical-align: top;\n",
       "    }\n",
       "\n",
       "    .dataframe thead th {\n",
       "        text-align: right;\n",
       "    }\n",
       "</style>\n",
       "<table border=\"1\" class=\"dataframe\">\n",
       "  <thead>\n",
       "    <tr style=\"text-align: right;\">\n",
       "      <th></th>\n",
       "      <th>id_job</th>\n",
       "      <th>feature_2_stand_1</th>\n",
       "      <th>feature_2_stand_2</th>\n",
       "      <th>feature_2_stand_3</th>\n",
       "      <th>feature_2_stand_4</th>\n",
       "      <th>feature_2_stand_5</th>\n",
       "      <th>feature_2_stand_6</th>\n",
       "      <th>feature_2_stand_7</th>\n",
       "      <th>feature_2_stand_8</th>\n",
       "      <th>feature_2_stand_9</th>\n",
       "      <th>...</th>\n",
       "      <th>feature_2_stand_249</th>\n",
       "      <th>feature_2_stand_250</th>\n",
       "      <th>feature_2_stand_251</th>\n",
       "      <th>feature_2_stand_252</th>\n",
       "      <th>feature_2_stand_253</th>\n",
       "      <th>feature_2_stand_254</th>\n",
       "      <th>feature_2_stand_255</th>\n",
       "      <th>feature_2_stand_256</th>\n",
       "      <th>max_feature_2_index</th>\n",
       "      <th>max_feature_2_abs_mean_diff</th>\n",
       "    </tr>\n",
       "  </thead>\n",
       "  <tbody>\n",
       "    <tr>\n",
       "      <th>0</th>\n",
       "      <td>-9168029089769934451</td>\n",
       "      <td>0.769135</td>\n",
       "      <td>0.234307</td>\n",
       "      <td>0.720399</td>\n",
       "      <td>0.696881</td>\n",
       "      <td>-0.576915</td>\n",
       "      <td>0.803130</td>\n",
       "      <td>0.258285</td>\n",
       "      <td>0.706847</td>\n",
       "      <td>0.808236</td>\n",
       "      <td>...</td>\n",
       "      <td>0.829606</td>\n",
       "      <td>0.772527</td>\n",
       "      <td>0.120503</td>\n",
       "      <td>0.802841</td>\n",
       "      <td>-0.502010</td>\n",
       "      <td>0.184573</td>\n",
       "      <td>0.798240</td>\n",
       "      <td>0.731307</td>\n",
       "      <td>161</td>\n",
       "      <td>154.17</td>\n",
       "    </tr>\n",
       "    <tr>\n",
       "      <th>1</th>\n",
       "      <td>-9167993139315005259</td>\n",
       "      <td>-0.496788</td>\n",
       "      <td>0.234307</td>\n",
       "      <td>-0.162567</td>\n",
       "      <td>0.092944</td>\n",
       "      <td>0.584295</td>\n",
       "      <td>-0.398820</td>\n",
       "      <td>0.294103</td>\n",
       "      <td>0.030519</td>\n",
       "      <td>-0.419534</td>\n",
       "      <td>...</td>\n",
       "      <td>-0.189921</td>\n",
       "      <td>0.021303</td>\n",
       "      <td>0.438698</td>\n",
       "      <td>0.201120</td>\n",
       "      <td>0.419363</td>\n",
       "      <td>0.468833</td>\n",
       "      <td>-0.005895</td>\n",
       "      <td>-0.275757</td>\n",
       "      <td>161</td>\n",
       "      <td>154.17</td>\n",
       "    </tr>\n",
       "    <tr>\n",
       "      <th>2</th>\n",
       "      <td>-9167993136660569470</td>\n",
       "      <td>-0.502214</td>\n",
       "      <td>0.234307</td>\n",
       "      <td>-0.447395</td>\n",
       "      <td>-0.091390</td>\n",
       "      <td>0.419332</td>\n",
       "      <td>-0.131720</td>\n",
       "      <td>0.272612</td>\n",
       "      <td>-0.225390</td>\n",
       "      <td>-0.333323</td>\n",
       "      <td>...</td>\n",
       "      <td>-0.358414</td>\n",
       "      <td>-0.323721</td>\n",
       "      <td>0.379037</td>\n",
       "      <td>-0.028107</td>\n",
       "      <td>0.436516</td>\n",
       "      <td>0.305383</td>\n",
       "      <td>-0.277769</td>\n",
       "      <td>-0.890851</td>\n",
       "      <td>161</td>\n",
       "      <td>154.17</td>\n",
       "    </tr>\n",
       "    <tr>\n",
       "      <th>3</th>\n",
       "      <td>-9167993126042826314</td>\n",
       "      <td>-0.688485</td>\n",
       "      <td>0.232522</td>\n",
       "      <td>-0.874636</td>\n",
       "      <td>-0.564352</td>\n",
       "      <td>0.545480</td>\n",
       "      <td>-0.622516</td>\n",
       "      <td>0.458866</td>\n",
       "      <td>-0.758096</td>\n",
       "      <td>-0.814918</td>\n",
       "      <td>...</td>\n",
       "      <td>-0.895308</td>\n",
       "      <td>-0.703004</td>\n",
       "      <td>0.546657</td>\n",
       "      <td>-1.034160</td>\n",
       "      <td>0.480624</td>\n",
       "      <td>0.497259</td>\n",
       "      <td>-0.890443</td>\n",
       "      <td>-1.017487</td>\n",
       "      <td>161</td>\n",
       "      <td>154.17</td>\n",
       "    </tr>\n",
       "    <tr>\n",
       "      <th>4</th>\n",
       "      <td>-9167914043308884846</td>\n",
       "      <td>-1.004966</td>\n",
       "      <td>-0.204754</td>\n",
       "      <td>-1.263901</td>\n",
       "      <td>-1.144035</td>\n",
       "      <td>0.053826</td>\n",
       "      <td>-0.919665</td>\n",
       "      <td>0.532891</td>\n",
       "      <td>-1.724280</td>\n",
       "      <td>-1.575957</td>\n",
       "      <td>...</td>\n",
       "      <td>-1.035243</td>\n",
       "      <td>-1.767441</td>\n",
       "      <td>0.421652</td>\n",
       "      <td>-1.505349</td>\n",
       "      <td>0.284588</td>\n",
       "      <td>0.520947</td>\n",
       "      <td>-1.380583</td>\n",
       "      <td>-0.348121</td>\n",
       "      <td>203</td>\n",
       "      <td>21.32</td>\n",
       "    </tr>\n",
       "  </tbody>\n",
       "</table>\n",
       "<p>5 rows × 259 columns</p>\n",
       "</div>"
      ],
      "text/plain": [
       "                id_job  feature_2_stand_1  feature_2_stand_2  \\\n",
       "0 -9168029089769934451           0.769135           0.234307   \n",
       "1 -9167993139315005259          -0.496788           0.234307   \n",
       "2 -9167993136660569470          -0.502214           0.234307   \n",
       "3 -9167993126042826314          -0.688485           0.232522   \n",
       "4 -9167914043308884846          -1.004966          -0.204754   \n",
       "\n",
       "   feature_2_stand_3  feature_2_stand_4  feature_2_stand_5  feature_2_stand_6  \\\n",
       "0           0.720399           0.696881          -0.576915           0.803130   \n",
       "1          -0.162567           0.092944           0.584295          -0.398820   \n",
       "2          -0.447395          -0.091390           0.419332          -0.131720   \n",
       "3          -0.874636          -0.564352           0.545480          -0.622516   \n",
       "4          -1.263901          -1.144035           0.053826          -0.919665   \n",
       "\n",
       "   feature_2_stand_7  feature_2_stand_8  feature_2_stand_9  ...  \\\n",
       "0           0.258285           0.706847           0.808236  ...   \n",
       "1           0.294103           0.030519          -0.419534  ...   \n",
       "2           0.272612          -0.225390          -0.333323  ...   \n",
       "3           0.458866          -0.758096          -0.814918  ...   \n",
       "4           0.532891          -1.724280          -1.575957  ...   \n",
       "\n",
       "   feature_2_stand_249  feature_2_stand_250  feature_2_stand_251  \\\n",
       "0             0.829606             0.772527             0.120503   \n",
       "1            -0.189921             0.021303             0.438698   \n",
       "2            -0.358414            -0.323721             0.379037   \n",
       "3            -0.895308            -0.703004             0.546657   \n",
       "4            -1.035243            -1.767441             0.421652   \n",
       "\n",
       "   feature_2_stand_252  feature_2_stand_253  feature_2_stand_254  \\\n",
       "0             0.802841            -0.502010             0.184573   \n",
       "1             0.201120             0.419363             0.468833   \n",
       "2            -0.028107             0.436516             0.305383   \n",
       "3            -1.034160             0.480624             0.497259   \n",
       "4            -1.505349             0.284588             0.520947   \n",
       "\n",
       "   feature_2_stand_255  feature_2_stand_256  max_feature_2_index  \\\n",
       "0             0.798240             0.731307                  161   \n",
       "1            -0.005895            -0.275757                  161   \n",
       "2            -0.277769            -0.890851                  161   \n",
       "3            -0.890443            -1.017487                  161   \n",
       "4            -1.380583            -0.348121                  203   \n",
       "\n",
       "   max_feature_2_abs_mean_diff  \n",
       "0                       154.17  \n",
       "1                       154.17  \n",
       "2                       154.17  \n",
       "3                       154.17  \n",
       "4                        21.32  \n",
       "\n",
       "[5 rows x 259 columns]"
      ]
     },
     "execution_count": 5,
     "metadata": {},
     "output_type": "execute_result"
    }
   ],
   "source": [
    "test_features = prep.add_max_feature_index(test_features)\n",
    "\n",
    "test_features = prep.add_max_feature_2_abs_mean_diff(test_features)\n",
    "\n",
    "test_features = prep.transform_with_scaler(test_features)\n",
    "\n",
    "test_features = test_features.rename(columns={i: f'feature_2_stand_{i}' for i in range(1, 1 + prep.features_num)})\n",
    "\n",
    "test_features = test_features.drop(columns=[0])\n",
    "\n",
    "test_features.head()"
   ]
  },
  {
   "cell_type": "markdown",
   "metadata": {},
   "source": [
    "# save"
   ]
  },
  {
   "cell_type": "code",
   "execution_count": 287,
   "metadata": {},
   "outputs": [],
   "source": [
    "test_feautres.to_csv(PATH + '/data/processed/test_proc.tsv', sep ='\\t', index = False)"
   ]
  }
 ],
 "metadata": {
  "kernelspec": {
   "display_name": "Python 3",
   "language": "python",
   "name": "python3"
  },
  "language_info": {
   "codemirror_mode": {
    "name": "ipython",
    "version": 3
   },
   "file_extension": ".py",
   "mimetype": "text/x-python",
   "name": "python",
   "nbconvert_exporter": "python",
   "pygments_lexer": "ipython3",
   "version": "3.7.7"
  }
 },
 "nbformat": 4,
 "nbformat_minor": 4
}
